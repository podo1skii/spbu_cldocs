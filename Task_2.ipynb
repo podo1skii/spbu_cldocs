{
  "nbformat": 4,
  "nbformat_minor": 0,
  "metadata": {
    "kernelspec": {
      "name": "python3",
      "display_name": "Python 3"
    },
    "colab": {
      "name": "Task_2.ipynb",
      "provenance": [],
      "collapsed_sections": []
    }
  },
  "cells": [
    {
      "cell_type": "code",
      "metadata": {
        "id": "eoMZS3Q6JiMJ"
      },
      "source": [
        "import numpy as np\n",
        "import scipy as sp\n",
        "import matplotlib.pyplot as plt\n",
        "import seaborn as sns"
      ],
      "execution_count": 24,
      "outputs": []
    },
    {
      "cell_type": "markdown",
      "metadata": {
        "id": "RdgoFvL-JiMK"
      },
      "source": [
        "# 1. Работа с массивами NumPy"
      ]
    },
    {
      "cell_type": "markdown",
      "metadata": {
        "id": "41U_6xrDJiMK"
      },
      "source": [
        "**N. Все упражнения ниже нужно делать без использования циклов Python**\n",
        "\n",
        "**1.** Cоздать вектор\n",
        "\n",
        "$$(2, \\frac{2^2}{2}, \\ldots, \\frac{2^{20}}{20})$$\n",
        "\n",
        "Можно использовать функции [np.arange()](http://docs.scipy.org/doc/numpy/reference/generated/numpy.arange.html), [np.ones()](http://docs.scipy.org/doc/numpy/reference/generated/numpy.ones.html)"
      ]
    },
    {
      "cell_type": "code",
      "metadata": {
        "id": "kwFFnwayJiMK",
        "colab": {
          "base_uri": "https://localhost:8080/"
        },
        "outputId": "218f7311-7c08-4dc0-8cf3-9030e7dbbced"
      },
      "source": [
        "a = ((2*np.ones(20))**np.arange(1, 21))/np.arange(1, 21)\n",
        "a"
      ],
      "execution_count": 25,
      "outputs": [
        {
          "output_type": "execute_result",
          "data": {
            "text/plain": [
              "array([2.00000000e+00, 2.00000000e+00, 2.66666667e+00, 4.00000000e+00,\n",
              "       6.40000000e+00, 1.06666667e+01, 1.82857143e+01, 3.20000000e+01,\n",
              "       5.68888889e+01, 1.02400000e+02, 1.86181818e+02, 3.41333333e+02,\n",
              "       6.30153846e+02, 1.17028571e+03, 2.18453333e+03, 4.09600000e+03,\n",
              "       7.71011765e+03, 1.45635556e+04, 2.75941053e+04, 5.24288000e+04])"
            ]
          },
          "metadata": {
            "tags": []
          },
          "execution_count": 25
        }
      ]
    },
    {
      "cell_type": "markdown",
      "metadata": {
        "id": "3Z9kH_mTJiMN"
      },
      "source": [
        "**2.** Посчитать:\n",
        "\n",
        "$$\\sum\\limits_{i=0}^{5}{0.1^{3i}0.2^{4i}}$$\n"
      ]
    },
    {
      "cell_type": "code",
      "metadata": {
        "id": "Is0tvgGsJiMN",
        "colab": {
          "base_uri": "https://localhost:8080/"
        },
        "outputId": "15ee9c49-4354-407e-c3be-a4eba23714d4"
      },
      "source": [
        "b = ((0.1**(3*np.arange(6)))*(0.2**(4*np.arange(6)))).sum()\n",
        "b"
      ],
      "execution_count": 26,
      "outputs": [
        {
          "output_type": "execute_result",
          "data": {
            "text/plain": [
              "1.00000160000256"
            ]
          },
          "metadata": {
            "tags": []
          },
          "execution_count": 26
        }
      ]
    },
    {
      "cell_type": "markdown",
      "metadata": {
        "id": "ZjhaLf5AJiMN"
      },
      "source": [
        "**3.** Создать нулевую матрицe $8 \\times 8$, и заполнить её единицами в шахматном порядке."
      ]
    },
    {
      "cell_type": "code",
      "metadata": {
        "id": "GLgmnhnJJiMO",
        "colab": {
          "base_uri": "https://localhost:8080/"
        },
        "outputId": "d1cf2c89-fae8-4a2a-cd9b-942e90ef7087"
      },
      "source": [
        "def pattern(i, j):\n",
        "  return np.where((i+j)%2 == 0, 1, 0)\n",
        "\n",
        "res = np.fromfunction(pattern, (8, 8))\n",
        "res"
      ],
      "execution_count": 27,
      "outputs": [
        {
          "output_type": "execute_result",
          "data": {
            "text/plain": [
              "array([[1, 0, 1, 0, 1, 0, 1, 0],\n",
              "       [0, 1, 0, 1, 0, 1, 0, 1],\n",
              "       [1, 0, 1, 0, 1, 0, 1, 0],\n",
              "       [0, 1, 0, 1, 0, 1, 0, 1],\n",
              "       [1, 0, 1, 0, 1, 0, 1, 0],\n",
              "       [0, 1, 0, 1, 0, 1, 0, 1],\n",
              "       [1, 0, 1, 0, 1, 0, 1, 0],\n",
              "       [0, 1, 0, 1, 0, 1, 0, 1]])"
            ]
          },
          "metadata": {
            "tags": []
          },
          "execution_count": 27
        }
      ]
    },
    {
      "cell_type": "markdown",
      "metadata": {
        "id": "tAeqmUmFJiMO"
      },
      "source": [
        "**4.** Есть 5 точек в декартовой системе координат (в виде матрицы $X$ размерностью $5 \\times 2$), сконвертируйте эти точки в полярную систему координат."
      ]
    },
    {
      "cell_type": "code",
      "metadata": {
        "id": "dMsa4h70JiMO",
        "colab": {
          "base_uri": "https://localhost:8080/"
        },
        "outputId": "8583271f-025d-4d38-baae-ddc7e80170e2"
      },
      "source": [
        "X = np.random.random((5, 2))\n",
        "\n",
        "p = np.sqrt(X[:, 0]**2+X[:, 1]**2)\n",
        "f = np.arccos(X[:, 0]/p)\n",
        "Y = np.vstack((p, f)).T\n",
        "Y"
      ],
      "execution_count": 28,
      "outputs": [
        {
          "output_type": "execute_result",
          "data": {
            "text/plain": [
              "array([[0.75050007, 1.54594594],\n",
              "       [1.04436195, 0.49837889],\n",
              "       [0.88812863, 0.26349151],\n",
              "       [1.00948087, 0.5837992 ],\n",
              "       [0.75776211, 0.70727888]])"
            ]
          },
          "metadata": {
            "tags": []
          },
          "execution_count": 28
        }
      ]
    },
    {
      "cell_type": "markdown",
      "metadata": {
        "id": "XFqqpNplJiMO"
      },
      "source": [
        "**5.** Найдите индексы максимального элемента в случайной матрице $10 \\times 10$.\n",
        "\n",
        "Cм. [np.argmax()](http://docs.scipy.org/doc/numpy/reference/generated/numpy.argmax.html)."
      ]
    },
    {
      "cell_type": "code",
      "metadata": {
        "id": "rAtVqCOUJiMO",
        "colab": {
          "base_uri": "https://localhost:8080/"
        },
        "outputId": "9a43a78c-15c8-4c1f-dee8-2e0db2cf5a2a"
      },
      "source": [
        "X = np.random.random((10, 10))\n",
        "\n",
        "ind = np.argmax(X)\n",
        "d = (ind//10, ind -(ind//10)*10)\n",
        "d"
      ],
      "execution_count": 29,
      "outputs": [
        {
          "output_type": "execute_result",
          "data": {
            "text/plain": [
              "(8, 8)"
            ]
          },
          "metadata": {
            "tags": []
          },
          "execution_count": 29
        }
      ]
    },
    {
      "cell_type": "markdown",
      "metadata": {
        "id": "rLCcyEdyJiMO"
      },
      "source": [
        "**6.** Есть 10 точек ($X$) и ещё одна ($y$). Найти в $X$ ближайшую к $y$ точку."
      ]
    },
    {
      "cell_type": "code",
      "metadata": {
        "id": "DpVkpZpXJiMO",
        "colab": {
          "base_uri": "https://localhost:8080/"
        },
        "outputId": "8fab1061-abca-4bf0-df62-bef49a99f034"
      },
      "source": [
        "X = np.random.random((10, 2))\n",
        "y = np.random.random((1, 2))\n",
        "res = np.argmax(((X - y)**2).sum(axis=1))\n",
        "X[res]"
      ],
      "execution_count": 30,
      "outputs": [
        {
          "output_type": "execute_result",
          "data": {
            "text/plain": [
              "array([0.67725474, 0.90630433])"
            ]
          },
          "metadata": {
            "tags": []
          },
          "execution_count": 30
        }
      ]
    },
    {
      "cell_type": "markdown",
      "metadata": {
        "id": "Y9SQbdoqJiMO"
      },
      "source": [
        "**7.** Дана функция:\n",
        "\n",
        "$$\n",
        " \\begin{cases}\n",
        "    x^2 + 2x + 6, & x < 0  \\\\\n",
        "    x + 6, & 0 \\le x \\le 2 \\\\\n",
        "    x^2 + 4x - 4, & x \\ge 2\n",
        " \\end{cases}\n",
        "$$\n",
        "\n",
        "Постройте массив из её значений на  $-3 \\le x \\le 3$."
      ]
    },
    {
      "cell_type": "code",
      "metadata": {
        "id": "JET8uSAFJiMO",
        "colab": {
          "base_uri": "https://localhost:8080/"
        },
        "outputId": "75db6cd8-49f6-42e5-a9ce-70772eec5502"
      },
      "source": [
        "x1, x2, x3 = np.arange(-3, 0, 0.2), np.arange(0, 2.1, 0.2), np.arange(2, 0, 3.1)\n",
        "f = np.hstack(((x1**2 + 2*x1) + 6, x2 + 6, x3**2 + 4*x3 -4))\n",
        "f"
      ],
      "execution_count": 31,
      "outputs": [
        {
          "output_type": "execute_result",
          "data": {
            "text/plain": [
              "array([9.  , 8.24, 7.56, 6.96, 6.44, 6.  , 5.64, 5.36, 5.16, 5.04, 5.  ,\n",
              "       5.04, 5.16, 5.36, 5.64, 6.  , 6.2 , 6.4 , 6.6 , 6.8 , 7.  , 7.2 ,\n",
              "       7.4 , 7.6 , 7.8 , 8.  ])"
            ]
          },
          "metadata": {
            "tags": []
          },
          "execution_count": 31
        }
      ]
    },
    {
      "cell_type": "markdown",
      "metadata": {
        "id": "f25tc8TJJiMO"
      },
      "source": [
        "**8.** Из каждого элемента матрицы вычесть среднее арифметическое от всех элементов в соответствующей строке (после чего среднее значение каждой строки должно равняться нулю).\n",
        "\n",
        "Cм. [np.mean()](http://docs.scipy.org/doc/numpy/reference/generated/numpy.mean.html)."
      ]
    },
    {
      "cell_type": "code",
      "metadata": {
        "id": "JaUr7UcHJiMO",
        "colab": {
          "base_uri": "https://localhost:8080/"
        },
        "outputId": "544b52eb-8195-4108-a57f-c62139d919a7"
      },
      "source": [
        "X = np.random.random((10, 10))\n",
        "\n",
        "X = X - X.mean(axis=1).reshape(10, 1)\n",
        "X.mean(axis=1)"
      ],
      "execution_count": 32,
      "outputs": [
        {
          "output_type": "execute_result",
          "data": {
            "text/plain": [
              "array([-1.33226763e-16,  4.44089210e-17, -4.44089210e-17,  0.00000000e+00,\n",
              "       -7.77156117e-17,  0.00000000e+00,  0.00000000e+00,  6.66133815e-17,\n",
              "       -2.22044605e-17, -2.22044605e-17])"
            ]
          },
          "metadata": {
            "tags": []
          },
          "execution_count": 32
        }
      ]
    },
    {
      "cell_type": "markdown",
      "metadata": {
        "id": "4F2ycv5TJiMO"
      },
      "source": [
        "**9.** Есть массив из 1000 чисел, полученных из генератора случайных чисел, имеющий нормальное распределение. Посчитайте выборочное среднее и выборочную дисперсию. "
      ]
    },
    {
      "cell_type": "code",
      "metadata": {
        "id": "5ZYcKDx_JiMO",
        "colab": {
          "base_uri": "https://localhost:8080/"
        },
        "outputId": "0aefd419-4be7-4b6e-d36a-50aea7d4ecb4"
      },
      "source": [
        "X = np.random.normal(loc=5, scale=2., size=1000)\n",
        "\n",
        "m = X.sum()/len(X)\n",
        "d = ((X-m)**2).sum() / len(X)\n",
        "print(m)\n",
        "print(d)"
      ],
      "execution_count": 33,
      "outputs": [
        {
          "output_type": "stream",
          "text": [
            "4.982739954909444\n",
            "4.038899180086402\n"
          ],
          "name": "stdout"
        }
      ]
    },
    {
      "cell_type": "markdown",
      "metadata": {
        "id": "NlrwIwatJiMP"
      },
      "source": [
        "**10.** Создать матрицу:\n",
        "\n",
        "$$\n",
        "\\begin{pmatrix}\n",
        "0 & 1 & 2 & 3 & 4 \\\\\n",
        "1 & 2 & 3 & 4 & 0 \\\\\n",
        "2 & 3 & 4 & 0 & 1 \\\\\n",
        "3 & 4 & 0 & 1 & 2 \\\\\n",
        "4 & 0 & 1 & 2 & 3\n",
        "\\end{pmatrix}\n",
        "$$"
      ]
    },
    {
      "cell_type": "code",
      "metadata": {
        "id": "3HNq-vSPJiMP",
        "colab": {
          "base_uri": "https://localhost:8080/"
        },
        "outputId": "571c376a-576e-4b22-90fb-de7d9e9b6592"
      },
      "source": [
        "def pattern(i, j):\n",
        "  return np.where((i+j-5) >= 0, i + j - 5, i + j)\n",
        "\n",
        "res = np.fromfunction(pattern, (5, 5))\n",
        "res"
      ],
      "execution_count": 34,
      "outputs": [
        {
          "output_type": "execute_result",
          "data": {
            "text/plain": [
              "array([[0., 1., 2., 3., 4.],\n",
              "       [1., 2., 3., 4., 0.],\n",
              "       [2., 3., 4., 0., 1.],\n",
              "       [3., 4., 0., 1., 2.],\n",
              "       [4., 0., 1., 2., 3.]])"
            ]
          },
          "metadata": {
            "tags": []
          },
          "execution_count": 34
        }
      ]
    },
    {
      "cell_type": "markdown",
      "metadata": {
        "id": "ZscZVs8qJiMQ"
      },
      "source": [
        "**11.** Есть следующий алгоритм семплинирования, на вход функции подается вектор из целых положительных чисел и число семплов."
      ]
    },
    {
      "cell_type": "code",
      "metadata": {
        "id": "pwaOAai1JiMQ",
        "colab": {
          "base_uri": "https://localhost:8080/"
        },
        "outputId": "7bb2fa9e-26ad-4d6a-9e78-a4b66b22a7de"
      },
      "source": [
        "def sample(x, c):\n",
        "    assert len(x) > 0\n",
        "    \n",
        "    s = np.sum(x)\n",
        "    res = []\n",
        "    for _ in range(c):\n",
        "        val = s * np.random.random()\n",
        "        print(val)\n",
        "        cur, idx = 0, 0        \n",
        "        while cur + x[idx] <= val:\n",
        "            cur += x[idx]\n",
        "            idx += 1\n",
        "            \n",
        "        res.append(idx)\n",
        "    return res\n",
        "\n",
        "            \n",
        "sample([50, 3, 1, 7, 20], 5)    "
      ],
      "execution_count": 35,
      "outputs": [
        {
          "output_type": "stream",
          "text": [
            "50.3956838543417\n",
            "62.96842625054355\n",
            "25.76233410666655\n",
            "48.06204220076495\n",
            "56.540344030886175\n"
          ],
          "name": "stdout"
        },
        {
          "output_type": "execute_result",
          "data": {
            "text/plain": [
              "[1, 4, 0, 0, 3]"
            ]
          },
          "metadata": {
            "tags": []
          },
          "execution_count": 35
        }
      ]
    },
    {
      "cell_type": "markdown",
      "metadata": {
        "id": "6VCxJSKcJiMQ"
      },
      "source": [
        "Реализуйте данный алгоритм более оптимальным способом, без использования циклов."
      ]
    },
    {
      "cell_type": "code",
      "metadata": {
        "id": "9tEV5QWwJiMQ",
        "colab": {
          "base_uri": "https://localhost:8080/"
        },
        "outputId": "3c868591-01b8-40d5-aa6a-bf698a565ba6"
      },
      "source": [
        "def fast_sample(x, c):\n",
        "    assert len(x) > 0\n",
        "    \n",
        "    s = np.sum(x)\n",
        "    val = s*np.random.random(c)\n",
        "    print(val)\n",
        "    val = val.reshape((c, 1))\n",
        "    x = np.array(x).cumsum().reshape((1, c))\n",
        "    res = (x < val).astype('int')\n",
        "    return res.sum(axis=1)\n",
        "\n",
        "fast_sample([50, 3, 1, 7, 20], 5)"
      ],
      "execution_count": 36,
      "outputs": [
        {
          "output_type": "stream",
          "text": [
            "[53.77804741 72.51603423  4.93138456 33.71974001 37.15090197]\n"
          ],
          "name": "stdout"
        },
        {
          "output_type": "execute_result",
          "data": {
            "text/plain": [
              "array([2, 4, 0, 0, 0])"
            ]
          },
          "metadata": {
            "tags": []
          },
          "execution_count": 36
        }
      ]
    },
    {
      "cell_type": "code",
      "metadata": {
        "id": "uSpMWeH4WbVj"
      },
      "source": [
        ""
      ],
      "execution_count": null,
      "outputs": []
    }
  ]
}