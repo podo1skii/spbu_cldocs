{
  "nbformat": 4,
  "nbformat_minor": 0,
  "metadata": {
    "kernelspec": {
      "display_name": "ML_env",
      "language": "python",
      "name": "ml_env"
    },
    "language_info": {
      "codemirror_mode": {
        "name": "ipython",
        "version": 3
      },
      "file_extension": ".py",
      "mimetype": "text/x-python",
      "name": "python",
      "nbconvert_exporter": "python",
      "pygments_lexer": "ipython3",
      "version": "3.6.9"
    },
    "colab": {
      "name": "Task_4.ipynb",
      "provenance": [],
      "collapsed_sections": [],
      "toc_visible": true,
      "include_colab_link": true
    }
  },
  "cells": [
    {
      "cell_type": "markdown",
      "metadata": {
        "id": "view-in-github",
        "colab_type": "text"
      },
      "source": [
        "<a href=\"https://colab.research.google.com/github/podo1skii/spbu_cldocs/blob/master/Task_4.ipynb\" target=\"_parent\"><img src=\"https://colab.research.google.com/assets/colab-badge.svg\" alt=\"Open In Colab\"/></a>"
      ]
    },
    {
      "cell_type": "markdown",
      "metadata": {
        "id": "qC1C9c83PxgE"
      },
      "source": [
        "# Линейная регрессия"
      ]
    },
    {
      "cell_type": "markdown",
      "metadata": {
        "id": "IG78WldEPxgE"
      },
      "source": [
        "Данные содержатся в файле `data/lin_reg.txt`. Прочитать их можно следующим так:"
      ]
    },
    {
      "cell_type": "code",
      "metadata": {
        "id": "cKrSVDmePxgF"
      },
      "source": [
        "import numpy as np\n",
        "from matplotlib import pyplot as plt\n",
        "\n",
        "dir = \"./lin_reg.txt\"\n",
        "D = np.loadtxt(dir, delimiter=',')\n",
        "D = (D - D.mean())/D.std()\n",
        "np.random.shuffle(D)"
      ],
      "execution_count": 85,
      "outputs": []
    },
    {
      "cell_type": "markdown",
      "metadata": {
        "id": "g970Pe57PxgH"
      },
      "source": [
        "При выполнении заданий **нельзя** пользоваться `scikit-learn` и т.п., только `NumPy`/`JAX`/`TF`/`PyTorch` и `matplotlib`/`seaborn`/`plotly`/etc.\n",
        "\n",
        "1. Нарисуйте график среднеквадратичной ошибки в зависимости от параметра регуляризации $\\alpha$, используя полные данные для обучения и для тестирования. \n",
        "2. Подготовьте исходные данные для 5 fold CV.\n",
        "3. С помощью CV найдите оптимальное значение $\\alpha$ на какой-нибудь сетке значений.\n",
        "4. Постройте валидационную кривую. \n",
        "5. Постройте кривую обучения."
      ]
    },
    {
      "cell_type": "code",
      "metadata": {
        "id": "CKij4wcwHCuW"
      },
      "source": [
        "def linear(x, w, b):\n",
        "    y = np.dot(x, w) + b\n",
        "    return y\n",
        "\n",
        "def mse(y_predicted, y, w, b, a):\n",
        "    result = (((y_predicted - y)**2).sum() + (a * (w**2).sum() + (b**2).sum()) / 2) / y.shape[0]\n",
        "    return result\n",
        "\n",
        "def get_grads(y_predicted, x, y, w, b, alpha):\n",
        "    b_gradient = (-2 * (y - y_predicted).sum() + alpha * 2 * b)/y.shape[0]\n",
        "    w_gradient = (np.dot((-2 * (y - y_predicted)).T, x) + alpha * 2 * w.sum())/y.shape[0]\n",
        "    return w_gradient.T, b_gradient\n",
        "\n",
        "\n",
        "def train_test_split(data, prop):\n",
        "    n = round(len(data)*prop)\n",
        "    return data[:n, :-1], data[n:, :-1], data[:n, -1], data[n:, -1]\n",
        "\n",
        "\n",
        "def get_cross_validation_data(d, f):\n",
        "    lst = []\n",
        "    for i in range(f):\n",
        "      lst.append(d[i*len(d)//f: (i+1)*len(d)//f])\n",
        "    return lst"
      ],
      "execution_count": 86,
      "outputs": []
    },
    {
      "cell_type": "code",
      "metadata": {
        "id": "cSKsGiyEIich"
      },
      "source": [
        "w = np.random.random((D.shape[1]-1, 1))\n",
        "b = np.random.random((1, 1))"
      ],
      "execution_count": 87,
      "outputs": []
    },
    {
      "cell_type": "code",
      "metadata": {
        "colab": {
          "base_uri": "https://localhost:8080/"
        },
        "id": "kfuKAPX-IjGz",
        "outputId": "67b719a9-4fe4-4949-f203-4e1d0e1e5162"
      },
      "source": [
        "w"
      ],
      "execution_count": 88,
      "outputs": [
        {
          "output_type": "execute_result",
          "data": {
            "text/plain": [
              "array([[0.1147842 ],\n",
              "       [0.70733261],\n",
              "       [0.95120209],\n",
              "       [0.49720852]])"
            ]
          },
          "metadata": {
            "tags": []
          },
          "execution_count": 88
        }
      ]
    },
    {
      "cell_type": "code",
      "metadata": {
        "colab": {
          "base_uri": "https://localhost:8080/"
        },
        "id": "kAL9t6dNIku6",
        "outputId": "f0557bd2-bab2-4bba-b063-56b3f604febc"
      },
      "source": [
        "b"
      ],
      "execution_count": 89,
      "outputs": [
        {
          "output_type": "execute_result",
          "data": {
            "text/plain": [
              "array([[0.49058575]])"
            ]
          },
          "metadata": {
            "tags": []
          },
          "execution_count": 89
        }
      ]
    },
    {
      "cell_type": "code",
      "metadata": {
        "colab": {
          "base_uri": "https://localhost:8080/",
          "height": 296
        },
        "id": "OvJXYbPMHBTV",
        "outputId": "cab7885f-e846-46d4-b1a4-889b6698309d"
      },
      "source": [
        "\n",
        "alpha_grid = [0.0001, 0.001, 0.1, 1.0, 10]\n",
        "\n",
        "X_train, X_test, Y_train, Y_test = train_test_split(D, 0.6)\n",
        "Y_train, Y_test = Y_train.reshape((len(Y_train), 1)), Y_test.reshape((len(Y_test), 1)) \n",
        "\n",
        "losses = []\n",
        "\n",
        "for alpha in alpha_grid:\n",
        "  for epoch in range(500):\n",
        "      y_predicted = linear(X_train, w, b).reshape((len(Y_train), 1))\n",
        "\n",
        "      loss = mse(y_predicted, Y_train, w, b, alpha)\n",
        "      \n",
        "      w_gradient, b_gradient = get_grads(y_predicted, X_train, Y_train, w, b, alpha)\n",
        "      w -= w_gradient*0.01\n",
        "      b -= b_gradient*0.01\n",
        "  \n",
        "  y_predicted = linear(X_test, w, b).reshape((len(Y_test), 1))\n",
        "  loss = mse(y_predicted, Y_test, w, b, alpha)\n",
        "  losses.append(loss)\n",
        "        \n",
        "\n",
        "plt.plot(alpha_grid, losses[::-1])\n",
        "plt.xlabel('alpha')\n",
        "plt.ylabel('loss')"
      ],
      "execution_count": 97,
      "outputs": [
        {
          "output_type": "execute_result",
          "data": {
            "text/plain": [
              "Text(0, 0.5, 'loss')"
            ]
          },
          "metadata": {
            "tags": []
          },
          "execution_count": 97
        },
        {
          "output_type": "display_data",
          "data": {
            "image/png": "[encoded data removed]",
            "text/plain": [
              "<Figure size 432x288 with 1 Axes>"
            ]
          },
          "metadata": {
            "tags": [],
            "needs_background": "light"
          }
        }
      ]
    },
    {
      "cell_type": "code",
      "metadata": {
        "colab": {
          "base_uri": "https://localhost:8080/"
        },
        "id": "arzMlIjSIG2_",
        "outputId": "440434fe-aef9-449d-b2fc-d40d663d96bf"
      },
      "source": [
        "data = get_cross_validation_data(D, PARTS)\n",
        "len(data)"
      ],
      "execution_count": 91,
      "outputs": [
        {
          "output_type": "execute_result",
          "data": {
            "text/plain": [
              "5"
            ]
          },
          "metadata": {
            "tags": []
          },
          "execution_count": 91
        }
      ]
    },
    {
      "cell_type": "code",
      "metadata": {
        "id": "7TX9lfWCkDZC"
      },
      "source": [
        "train_losses = []\n",
        "test_losses = []\n",
        "\n",
        "for alpha in alpha_grid:\n",
        "  local_train_losses = np.array([])\n",
        "  local_test_losses = np.array([])\n",
        "\n",
        "  for i in range(5):\n",
        "    parts_train, parts_test = np.vstack(tuple(data[:i] + data[i+1:])), data[i]\n",
        "    X_train, Y_train = parts_train[:, :-1], parts_train[:, -1]\n",
        "    X_test, Y_test = parts_test[:, :-1], parts_test[:, -1]\n",
        "    Y_train, Y_test = Y_train.reshape((len(Y_train), 1)), Y_test.reshape((len(Y_test), 1)) \n",
        "    \n",
        "    for epoch in range(500):\n",
        "      y_predicted = linear(X_train, w, b).reshape((len(Y_train), 1))\n",
        "      loss = mse(y_predicted, Y_train, w, b, alpha)\n",
        "      if epoch == 500 - 1:\n",
        "        local_train_losses = np.append(local_train_losses, loss) \n",
        "      w_gradient, b_gradinet = get_grads(y_predicted, X_train, Y_train, w, b, alpha)\n",
        "      w -= w_gradient*0.01\n",
        "      b -= b_gradient*0.01\n",
        "    y_predicted = linear(X_test, w, b).reshape((len(Y_test), 1))\n",
        "    loss = mse(y_predicted, Y_test, w, b, alpha)\n",
        "    local_test_losses = np.append(local_test_losses, loss)\n",
        "  train_losses.append(local_train_losses.mean())\n",
        "  test_losses.append(local_test_losses.mean())"
      ],
      "execution_count": 92,
      "outputs": []
    },
    {
      "cell_type": "code",
      "metadata": {
        "colab": {
          "base_uri": "https://localhost:8080/"
        },
        "id": "FTnzB7r2IPjG",
        "outputId": "f935c3cb-834b-4fa4-af51-59c948d64f94"
      },
      "source": [
        "train_losses"
      ],
      "execution_count": 93,
      "outputs": [
        {
          "output_type": "execute_result",
          "data": {
            "text/plain": [
              "[0.04357830298037889,\n",
              " 0.0443660966777968,\n",
              " 0.054314166013500365,\n",
              " 0.09483748595927083,\n",
              " 0.41772019345659217]"
            ]
          },
          "metadata": {
            "tags": []
          },
          "execution_count": 93
        }
      ]
    },
    {
      "cell_type": "code",
      "metadata": {
        "colab": {
          "base_uri": "https://localhost:8080/"
        },
        "id": "ec0Ssq5XIWpI",
        "outputId": "d4864a72-6cbb-45a6-f509-6b44f68f2e4a"
      },
      "source": [
        "test_losses"
      ],
      "execution_count": 94,
      "outputs": [
        {
          "output_type": "execute_result",
          "data": {
            "text/plain": [
              "[0.04357033560760112,\n",
              " 0.04476013956131954,\n",
              " 0.06507031397256195,\n",
              " 0.19890687814794913,\n",
              " 1.4044681061326485]"
            ]
          },
          "metadata": {
            "tags": []
          },
          "execution_count": 94
        }
      ]
    },
    {
      "cell_type": "code",
      "metadata": {
        "colab": {
          "base_uri": "https://localhost:8080/"
        },
        "id": "DVhu3tgtSq5z",
        "outputId": "9870e7b9-8612-4d8c-ac96-c26b0b8669bb"
      },
      "source": [
        "idx = list.index(test_losses, min(test_losses))\n",
        "print('Оптимальное значение параметра alpha:', alphas[idx])"
      ],
      "execution_count": 95,
      "outputs": [
        {
          "output_type": "stream",
          "text": [
            "Оптимальное значение параметра alpha: 0.0001\n"
          ],
          "name": "stdout"
        }
      ]
    },
    {
      "cell_type": "code",
      "metadata": {
        "colab": {
          "base_uri": "https://localhost:8080/",
          "height": 296
        },
        "id": "gi74brVZoRg1",
        "outputId": "abafc65b-c8ee-4c47-bb7d-3eef0254e952"
      },
      "source": [
        "plt.plot(alphas, train_losses, label='train curve')\n",
        "plt.plot(alphas, test_losses, label='test curve')\n",
        "\n",
        "plt.ylabel('loss')\n",
        "plt.xlabel('alpha')\n",
        "plt.legend()"
      ],
      "execution_count": 96,
      "outputs": [
        {
          "output_type": "execute_result",
          "data": {
            "text/plain": [
              "<matplotlib.legend.Legend at 0x7f767fbd0e48>"
            ]
          },
          "metadata": {
            "tags": []
          },
          "execution_count": 96
        },
        {
          "output_type": "display_data",
          "data": {
            "image/png": "[encoded data removed]",
            "text/plain": [
              "<Figure size 432x288 with 1 Axes>"
            ]
          },
          "metadata": {
            "tags": [],
            "needs_background": "light"
          }
        }
      ]
    }
  ]
}