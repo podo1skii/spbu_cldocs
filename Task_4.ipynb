{
  "nbformat": 4,
  "nbformat_minor": 0,
  "metadata": {
    "kernelspec": {
      "display_name": "ML_env",
      "language": "python",
      "name": "ml_env"
    },
    "language_info": {
      "codemirror_mode": {
        "name": "ipython",
        "version": 3
      },
      "file_extension": ".py",
      "mimetype": "text/x-python",
      "name": "python",
      "nbconvert_exporter": "python",
      "pygments_lexer": "ipython3",
      "version": "3.6.9"
    },
    "colab": {
      "name": "Task_4.ipynb",
      "provenance": [],
      "collapsed_sections": [],
      "toc_visible": true,
      "include_colab_link": true
    }
  },
  "cells": [
    {
      "cell_type": "markdown",
      "metadata": {
        "id": "view-in-github",
        "colab_type": "text"
      },
      "source": [
        "<a href=\"https://colab.research.google.com/github/podo1skii/spbu_cldocs/blob/master/Task_4.ipynb\" target=\"_parent\"><img src=\"https://colab.research.google.com/assets/colab-badge.svg\" alt=\"Open In Colab\"/></a>"
      ]
    },
    {
      "cell_type": "markdown",
      "metadata": {
        "id": "qC1C9c83PxgE"
      },
      "source": [
        "# Линейная регрессия"
      ]
    },
    {
      "cell_type": "markdown",
      "metadata": {
        "id": "IG78WldEPxgE"
      },
      "source": [
        "Данные содержатся в файле `data/lin_reg.txt`. Прочитать их можно следующим так:"
      ]
    },
    {
      "cell_type": "code",
      "metadata": {
        "id": "cKrSVDmePxgF"
      },
      "source": [
        "import numpy as np\n",
        "from matplotlib import pyplot as plt\n",
        "\n",
        "dir = \"./lin_reg.txt\"\n",
        "D = np.loadtxt(dir, delimiter=',')\n",
        "D = (D - D.mean())/D.std()\n",
        "np.random.shuffle(D)"
      ],
      "execution_count": 98,
      "outputs": []
    },
    {
      "cell_type": "markdown",
      "metadata": {
        "id": "g970Pe57PxgH"
      },
      "source": [
        "При выполнении заданий **нельзя** пользоваться `scikit-learn` и т.п., только `NumPy`/`JAX`/`TF`/`PyTorch` и `matplotlib`/`seaborn`/`plotly`/etc.\n",
        "\n",
        "1. Нарисуйте график среднеквадратичной ошибки в зависимости от параметра регуляризации $\\alpha$, используя полные данные для обучения и для тестирования. \n",
        "2. Подготовьте исходные данные для 5 fold CV.\n",
        "3. С помощью CV найдите оптимальное значение $\\alpha$ на какой-нибудь сетке значений.\n",
        "4. Постройте валидационную кривую. \n",
        "5. Постройте кривую обучения."
      ]
    },
    {
      "cell_type": "code",
      "metadata": {
        "id": "CKij4wcwHCuW"
      },
      "source": [
        "def linear(x, w, b):\n",
        "    y = np.dot(x, w) + b\n",
        "    return y"
      ],
      "execution_count": 99,
      "outputs": []
    },
    {
      "cell_type": "code",
      "metadata": {
        "id": "OCTaZcvMKCHF"
      },
      "source": [
        "def mse(y_predicted, y, w, b, a):\n",
        "    result = (((y_predicted - y)**2).sum() + (a * (w**2).sum() + (b**2).sum()) / 2) / y.shape[0]\n",
        "    return result"
      ],
      "execution_count": 100,
      "outputs": []
    },
    {
      "cell_type": "code",
      "metadata": {
        "id": "Efl5nY1yKDnp"
      },
      "source": [
        "\n",
        "def get_grads(y_predicted, x, y, w, b, alpha):\n",
        "    b_gradient = (-2 * (y - y_predicted).sum() + alpha * 2 * b)/y.shape[0]\n",
        "    w_gradient = (np.dot((-2 * (y - y_predicted)).T, x) + alpha * 2 * w.sum())/y.shape[0]\n",
        "    return w_gradient.T, b_gradient"
      ],
      "execution_count": 101,
      "outputs": []
    },
    {
      "cell_type": "code",
      "metadata": {
        "id": "AHjlQTOXKFTI"
      },
      "source": [
        "\n",
        "def train_test_split(data, prop):\n",
        "    n = round(len(data)*prop)\n",
        "    return data[:n, :-1], data[n:, :-1], data[:n, -1], data[n:, -1]"
      ],
      "execution_count": 102,
      "outputs": []
    },
    {
      "cell_type": "code",
      "metadata": {
        "id": "cSKsGiyEIich"
      },
      "source": [
        "w = np.random.random((D.shape[1]-1, 1))\n",
        "b = np.random.random((1, 1))"
      ],
      "execution_count": 103,
      "outputs": []
    },
    {
      "cell_type": "code",
      "metadata": {
        "colab": {
          "base_uri": "https://localhost:8080/"
        },
        "id": "kfuKAPX-IjGz",
        "outputId": "6a7d4f00-c82b-4b42-fe9c-3ddd073b4fcc"
      },
      "source": [
        "w"
      ],
      "execution_count": 104,
      "outputs": [
        {
          "output_type": "execute_result",
          "data": {
            "text/plain": [
              "array([[0.95171195],\n",
              "       [0.78565105],\n",
              "       [0.87795328],\n",
              "       [0.37834309]])"
            ]
          },
          "metadata": {
            "tags": []
          },
          "execution_count": 104
        }
      ]
    },
    {
      "cell_type": "code",
      "metadata": {
        "colab": {
          "base_uri": "https://localhost:8080/"
        },
        "id": "kAL9t6dNIku6",
        "outputId": "568fe80b-5829-4d12-e799-2282bc0b8cc9"
      },
      "source": [
        "b"
      ],
      "execution_count": 105,
      "outputs": [
        {
          "output_type": "execute_result",
          "data": {
            "text/plain": [
              "array([[0.15959522]])"
            ]
          },
          "metadata": {
            "tags": []
          },
          "execution_count": 105
        }
      ]
    },
    {
      "cell_type": "code",
      "metadata": {
        "colab": {
          "base_uri": "https://localhost:8080/",
          "height": 297
        },
        "id": "OvJXYbPMHBTV",
        "outputId": "119c51ab-5ed9-4d8e-8149-829d6dfaff04"
      },
      "source": [
        "\n",
        "alpha_grid = [0.0001, 0.001, 0.1, 1.0, 10]\n",
        "\n",
        "X_train, X_test, Y_train, Y_test = train_test_split(D, 0.6)\n",
        "Y_train, Y_test = Y_train.reshape((len(Y_train), 1)), Y_test.reshape((len(Y_test), 1)) \n",
        "\n",
        "losses = []\n",
        "\n",
        "for alpha in alpha_grid:\n",
        "  for epoch in range(500):\n",
        "      y_predicted = linear(X_train, w, b).reshape((len(Y_train), 1))\n",
        "\n",
        "      loss = mse(y_predicted, Y_train, w, b, alpha)\n",
        "      \n",
        "      w_gradient, b_gradient = get_grads(y_predicted, X_train, Y_train, w, b, alpha)\n",
        "      w -= w_gradient*0.01\n",
        "      b -= b_gradient*0.01\n",
        "  \n",
        "  y_predicted = linear(X_test, w, b).reshape((len(Y_test), 1))\n",
        "  loss = mse(y_predicted, Y_test, w, b, alpha)\n",
        "  losses.append(loss)\n",
        "        \n",
        "\n",
        "plt.plot(alpha_grid, losses[::-1])\n",
        "plt.xlabel('alpha')\n",
        "plt.ylabel('loss')"
      ],
      "execution_count": 106,
      "outputs": [
        {
          "output_type": "execute_result",
          "data": {
            "text/plain": [
              "Text(0, 0.5, 'loss')"
            ]
          },
          "metadata": {
            "tags": []
          },
          "execution_count": 106
        },
        {
          "output_type": "display_data",
          "data": {
            "image/png": "[encoded data removed]",
            "text/plain": [
              "<Figure size 432x288 with 1 Axes>"
            ]
          },
          "metadata": {
            "tags": [],
            "needs_background": "light"
          }
        }
      ]
    },
    {
      "cell_type": "code",
      "metadata": {
        "id": "N0RRxdEQKKH1"
      },
      "source": [
        "def get_cross_validation_data(d, f):\n",
        "    lst = []\n",
        "    for i in range(f):\n",
        "      lst.append(d[i*len(d)//f: (i+1)*len(d)//f])\n",
        "    return lst"
      ],
      "execution_count": 116,
      "outputs": []
    },
    {
      "cell_type": "code",
      "metadata": {
        "colab": {
          "base_uri": "https://localhost:8080/"
        },
        "id": "arzMlIjSIG2_",
        "outputId": "cabd5b06-04f6-414b-9b06-bdee80387d37"
      },
      "source": [
        "data = get_cross_validation_data(D, PARTS)\n",
        "len(data)"
      ],
      "execution_count": 117,
      "outputs": [
        {
          "output_type": "execute_result",
          "data": {
            "text/plain": [
              "5"
            ]
          },
          "metadata": {
            "tags": []
          },
          "execution_count": 117
        }
      ]
    },
    {
      "cell_type": "code",
      "metadata": {
        "id": "7TX9lfWCkDZC"
      },
      "source": [
        "train_losses = []\n",
        "test_losses = []\n",
        "\n",
        "for alpha in alpha_grid:\n",
        "  local_train_losses = np.array([])\n",
        "  local_test_losses = np.array([])\n",
        "\n",
        "  for i in range(5):\n",
        "    parts_train, parts_test = np.vstack(tuple(data[:i] + data[i+1:])), data[i]\n",
        "    X_train, Y_train = parts_train[:, :-1], parts_train[:, -1]\n",
        "    X_test, Y_test = parts_test[:, :-1], parts_test[:, -1]\n",
        "    Y_train, Y_test = Y_train.reshape((len(Y_train), 1)), Y_test.reshape((len(Y_test), 1)) \n",
        "    \n",
        "    for epoch in range(500):\n",
        "      y_predicted = linear(X_train, w, b).reshape((len(Y_train), 1))\n",
        "      loss = mse(y_predicted, Y_train, w, b, alpha)\n",
        "      if epoch == 500 - 1:\n",
        "        local_train_losses = np.append(local_train_losses, loss) \n",
        "      w_gradient, b_gradinet = get_grads(y_predicted, X_train, Y_train, w, b, alpha)\n",
        "      w -= w_gradient*0.01\n",
        "      b -= b_gradient*0.01\n",
        "    y_predicted = linear(X_test, w, b).reshape((len(Y_test), 1))\n",
        "    loss = mse(y_predicted, Y_test, w, b, alpha)\n",
        "    local_test_losses = np.append(local_test_losses, loss)\n",
        "  train_losses.append(local_train_losses.mean())\n",
        "  test_losses.append(local_test_losses.mean())"
      ],
      "execution_count": 118,
      "outputs": []
    },
    {
      "cell_type": "code",
      "metadata": {
        "colab": {
          "base_uri": "https://localhost:8080/"
        },
        "id": "FTnzB7r2IPjG",
        "outputId": "2b1c62c6-9606-4b80-c51c-18ca666ea99e"
      },
      "source": [
        "train_losses"
      ],
      "execution_count": 119,
      "outputs": [
        {
          "output_type": "execute_result",
          "data": {
            "text/plain": [
              "[0.0692844638404432,\n",
              " 0.07681752340880056,\n",
              " 0.09122351400981846,\n",
              " 0.13496462891770017,\n",
              " 0.4622744067295649]"
            ]
          },
          "metadata": {
            "tags": []
          },
          "execution_count": 119
        }
      ]
    },
    {
      "cell_type": "code",
      "metadata": {
        "colab": {
          "base_uri": "https://localhost:8080/"
        },
        "id": "ec0Ssq5XIWpI",
        "outputId": "a544dc9b-6f8f-4c5b-b1bb-e772f000deec"
      },
      "source": [
        "test_losses"
      ],
      "execution_count": 120,
      "outputs": [
        {
          "output_type": "execute_result",
          "data": {
            "text/plain": [
              "[0.06929738803704304,\n",
              " 0.07736063970144039,\n",
              " 0.10225665756151106,\n",
              " 0.24001494424652375,\n",
              " 1.4654723137822054]"
            ]
          },
          "metadata": {
            "tags": []
          },
          "execution_count": 120
        }
      ]
    },
    {
      "cell_type": "code",
      "metadata": {
        "colab": {
          "base_uri": "https://localhost:8080/"
        },
        "id": "DVhu3tgtSq5z",
        "outputId": "ec99a4ed-753a-4ea7-c765-49463d5e887e"
      },
      "source": [
        "idx = list.index(test_losses, min(test_losses))\n",
        "print('Оптимальное значение параметра alpha:', alpha_grid[idx])"
      ],
      "execution_count": 121,
      "outputs": [
        {
          "output_type": "stream",
          "text": [
            "Оптимальное значение параметра alpha: 0.0001\n"
          ],
          "name": "stdout"
        }
      ]
    },
    {
      "cell_type": "code",
      "metadata": {
        "colab": {
          "base_uri": "https://localhost:8080/",
          "height": 296
        },
        "id": "gi74brVZoRg1",
        "outputId": "d8e3dabf-0613-4c22-eaed-54e197d18e88"
      },
      "source": [
        "plt.plot(alpha_grid, train_losses, label='train')\n",
        "plt.plot(alpha_grid, test_losses, label='test')\n",
        "\n",
        "plt.ylabel('loss')\n",
        "plt.xlabel('alpha')\n",
        "plt.legend()"
      ],
      "execution_count": 123,
      "outputs": [
        {
          "output_type": "execute_result",
          "data": {
            "text/plain": [
              "<matplotlib.legend.Legend at 0x7f767f8f3eb8>"
            ]
          },
          "metadata": {
            "tags": []
          },
          "execution_count": 123
        },
        {
          "output_type": "display_data",
          "data": {
            "image/png": "[encoded data removed]",
            "text/plain": [
              "<Figure size 432x288 with 1 Axes>"
            ]
          },
          "metadata": {
            "tags": [],
            "needs_background": "light"
          }
        }
      ]
    }
  ]
}