{
  "nbformat": 4,
  "nbformat_minor": 0,
  "metadata": {
    "kernelspec": {
      "display_name": "ML_env",
      "language": "python",
      "name": "ml_env"
    },
    "language_info": {
      "codemirror_mode": {
        "name": "ipython",
        "version": 3
      },
      "file_extension": ".py",
      "mimetype": "text/x-python",
      "name": "python",
      "nbconvert_exporter": "python",
      "pygments_lexer": "ipython3",
      "version": "3.6.9"
    },
    "colab": {
      "name": "Task_3.ipynb",
      "provenance": []
    }
  },
  "cells": [
    {
      "cell_type": "code",
      "metadata": {
        "jupyter": {
          "outputs_hidden": true
        },
        "id": "-eXKteoxnsy9"
      },
      "source": [
        "import pandas as pd\n",
        "import matplotlib.pyplot as plt\n",
        "import numpy as np\n",
        "from datetime import datetime"
      ],
      "execution_count": null,
      "outputs": []
    },
    {
      "cell_type": "markdown",
      "metadata": {
        "id": "ljFb-Rk1nsy-"
      },
      "source": [
        "В файле `data/weather.csv` находит архив погоды в г. Санкт-Петербург с 1 января 2008 года по 31 декабря 2016 года. Файл состоит из двух столбцов - дата (**Day**) и средняя дневная температура в этот день (**t**). Прочитать данные в `pandas` можно с помощью кода:"
      ]
    },
    {
      "cell_type": "code",
      "metadata": {
        "id": "2NOEmFVknsy_"
      },
      "source": [
        "df = pd.read_csv('data/weather.csv', encoding='utf-8', index_col=False, parse_dates=[0])"
      ],
      "execution_count": 6,
      "outputs": []
    },
    {
      "cell_type": "code",
      "metadata": {
        "colab": {
          "base_uri": "https://localhost:8080/"
        },
        "id": "27f2XaJlnsy_",
        "outputId": "ad39e4af-214e-4935-8389-b9239f61c314"
      },
      "source": [
        "df.head(5)\n",
        "df.t.mean()"
      ],
      "execution_count": 7,
      "outputs": [
        {
          "output_type": "execute_result",
          "data": {
            "text/plain": [
              "8.137595129375951"
            ]
          },
          "metadata": {
            "tags": []
          },
          "execution_count": 7
        }
      ]
    },
    {
      "cell_type": "markdown",
      "metadata": {
        "id": "f_93ON29nsy_"
      },
      "source": [
        "С помощью `Pandas` решите следующие задачи"
      ]
    },
    {
      "cell_type": "markdown",
      "metadata": {
        "id": "agd4AMFsnszA"
      },
      "source": [
        "**1.** Определите самый холодный год, в котором среднеяя температура была минимальная и самый теплый год. "
      ]
    },
    {
      "cell_type": "code",
      "metadata": {
        "jupyter": {
          "outputs_hidden": true
        },
        "colab": {
          "base_uri": "https://localhost:8080/"
        },
        "id": "Nk5AQz5XnszA",
        "outputId": "21972251-c505-4330-9eed-23c05de4e0c8"
      },
      "source": [
        "temperature = []\n",
        "for i in range(2008,2017):\n",
        "    year = df[(df.Day >= pd.Timestamp(i, 1, 1)) & (pd.Timestamp(i+1, 1, 1) >= df.Day)]\n",
        "    temperature.append(year.t.mean())\n",
        "    \n",
        "warm = 2008 + temperature.index(max(temperature));\n",
        "cold = 2008 + temperature.index(min(temperature))\n",
        "print('the warmest year:', warm)\n",
        "print('the coldest year:', cold)"
      ],
      "execution_count": 10,
      "outputs": [
        {
          "output_type": "stream",
          "text": [
            "the warmest year: 2015\n",
            "the coldest year: 2012\n"
          ],
          "name": "stdout"
        }
      ]
    },
    {
      "cell_type": "markdown",
      "metadata": {
        "id": "HWwvb8tDnszB"
      },
      "source": [
        "**2.** Определите год, где в январе было наибольшее число дней с положительной температурой ($\\text{t} \\ge 0$)."
      ]
    },
    {
      "cell_type": "code",
      "metadata": {
        "jupyter": {
          "outputs_hidden": true
        },
        "id": "eLLKgmi9nszB",
        "colab": {
          "base_uri": "https://localhost:8080/"
        },
        "outputId": "0ba620ad-5302-4d4a-9708-a0035babf20e"
      },
      "source": [
        "temperature = []\n",
        "for i in range(2008,2017):\n",
        "    year = df[(df['Day'] >= pd.Timestamp(i, 1, 1)) & (pd.Timestamp(i, 1, 31) >= df['Day']) & (df.t >=0)]\n",
        "    temperature.append(year.t.mean())\n",
        "    temperature.append(year.shape[0])\n",
        "print('Answer:',\\\n",
        "          2008 + temperature.index(max(temperature)))"
      ],
      "execution_count": 15,
      "outputs": [
        {
          "output_type": "stream",
          "text": [
            "Answer: 2009\n"
          ],
          "name": "stdout"
        }
      ]
    },
    {
      "cell_type": "markdown",
      "metadata": {
        "id": "0UBWQD_6nszC"
      },
      "source": [
        "**3.** В каком году было самое холодное лето (по средней температуре)"
      ]
    },
    {
      "cell_type": "code",
      "metadata": {
        "jupyter": {
          "outputs_hidden": true
        },
        "id": "Vl4K1GeXnszC",
        "colab": {
          "base_uri": "https://localhost:8080/"
        },
        "outputId": "aa569bf4-32a9-4744-dc4a-8a51d0e15341"
      },
      "source": [
        "temperature = []\n",
        "for i in range(2008,2017):\n",
        "    year = df[(df['Day'] >= pd.Timestamp(i, 6, 1)) & (pd.Timestamp(i, 8, 31) >= df['Day'])]\n",
        "    temperature.append(year.t.mean())\n",
        "print('Answer:', 2008 + temperature.index(min(temperature)))"
      ],
      "execution_count": 16,
      "outputs": [
        {
          "output_type": "stream",
          "text": [
            "Answer: 2008\n"
          ],
          "name": "stdout"
        }
      ]
    },
    {
      "cell_type": "markdown",
      "metadata": {
        "id": "IOLkLd8-nszC"
      },
      "source": [
        "**4.** Найдите день с самой большим перепадом температуры, если сравнивать со следующим днем. "
      ]
    },
    {
      "cell_type": "code",
      "metadata": {
        "jupyter": {
          "outputs_hidden": true
        },
        "id": "Qy1zu4BTnszC",
        "colab": {
          "base_uri": "https://localhost:8080/",
          "height": 35
        },
        "outputId": "62003273-157b-459d-eac4-a04f949fd339"
      },
      "source": [
        "temperature = np.array(df.t)\n",
        "temperature = list(abs(temperature[1:] - temperature[:-1]))\n",
        "i = temperature.index(max(temperature))\n",
        "str(df.Day[i].date())"
      ],
      "execution_count": 19,
      "outputs": [
        {
          "output_type": "execute_result",
          "data": {
            "application/vnd.google.colaboratory.intrinsic+json": {
              "type": "string"
            },
            "text/plain": [
              "'2014-05-26'"
            ]
          },
          "metadata": {
            "tags": []
          },
          "execution_count": 19
        }
      ]
    },
    {
      "cell_type": "markdown",
      "metadata": {
        "id": "G0wOxvCinszD"
      },
      "source": [
        "**5.** Постройте график среднегодовых температур (по оси $x$ - год, по оси $y$ - средняя температура в этот год)."
      ]
    },
    {
      "cell_type": "code",
      "metadata": {
        "jupyter": {
          "outputs_hidden": true
        },
        "id": "qcn9lA76nszD",
        "colab": {
          "base_uri": "https://localhost:8080/",
          "height": 296
        },
        "outputId": "a3f622c0-61c3-4a02-8443-c2b1bad3318d"
      },
      "source": [
        "X = np.arange(2008,2017)\n",
        "Y = []\n",
        "for i in range(2008,2017):\n",
        "    year = df[(df.Day >= pd.Timestamp(i, 1, 1)) & (pd.Timestamp(i+1, 1, 1) >= df.Day)]\n",
        "    Y.append(year.t.mean())\n",
        "plt.plot(X, Y)\n",
        "plt.xlabel('Year')\n",
        "plt.xlabel('Temperature')"
      ],
      "execution_count": 21,
      "outputs": [
        {
          "output_type": "execute_result",
          "data": {
            "text/plain": [
              "Text(0.5, 0, 'Temperature')"
            ]
          },
          "metadata": {
            "tags": []
          },
          "execution_count": 21
        },
        {
          "output_type": "display_data",
          "data": {
            "image/png": "[encoded data removed]",
            "text/plain": [
              "<Figure size 432x288 with 1 Axes>"
            ]
          },
          "metadata": {
            "tags": [],
            "needs_background": "light"
          }
        }
      ]
    },
    {
      "cell_type": "code",
      "metadata": {
        "id": "Rq_4zkPinszD"
      },
      "source": [
        ""
      ],
      "execution_count": null,
      "outputs": []
    }
  ]
}