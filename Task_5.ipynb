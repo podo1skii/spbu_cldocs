{
  "nbformat": 4,
  "nbformat_minor": 0,
  "metadata": {
    "kernelspec": {
      "display_name": "Python 3",
      "language": "python",
      "name": "python3"
    },
    "language_info": {
      "codemirror_mode": {
        "name": "ipython",
        "version": 3
      },
      "file_extension": ".py",
      "mimetype": "text/x-python",
      "name": "python",
      "nbconvert_exporter": "python",
      "pygments_lexer": "ipython3",
      "version": "3.6.9"
    },
    "colab": {
      "name": "Task_5.ipynb",
      "provenance": [],
      "collapsed_sections": [],
      "include_colab_link": true
    }
  },
  "cells": [
    {
      "cell_type": "markdown",
      "metadata": {
        "id": "view-in-github",
        "colab_type": "text"
      },
      "source": [
        "<a href=\"https://colab.research.google.com/github/podo1skii/spbu_cldocs/blob/master/Task_5.ipynb\" target=\"_parent\"><img src=\"https://colab.research.google.com/assets/colab-badge.svg\" alt=\"Open In Colab\"/></a>"
      ]
    },
    {
      "cell_type": "markdown",
      "metadata": {
        "id": "Z8HfUH1GaAkW"
      },
      "source": [
        "## Часть 1\n",
        "Напишите скрипт, который скачивает все данные с выборов губернатора СПб 2019г для всех избирательных участков. \n",
        "\n",
        "Входная точка [по ссылке](http://notelections.online/region/region/st-petersburg?action=show&root=1&tvd=27820001217417&vrn=27820001217413&region=78&global=&sub_region=78&prver=0&pronetvd=null&vibid=27820001217417&type=222). Затем нужно перейти на сайты территориальных избирательных комиссий. Результаты нужно сохранить в  `cvs`-файл, `sqlite` базе данных или `parquet`-файле. В итоге должна получиться таблица с полями:\n",
        "- название ТИК (территориальная избирательная комиссия, некоторое объединение избирательных участков на определенной территории)\n",
        "- номер УИК (избирательный участок)\n",
        "- 14 стандартных полей из итогового протокола\n",
        "\n",
        "Скрипт должен быть в отдельном `*.py` файле или в отдельном `jupyter`-ноутбуке. "
      ]
    },
    {
      "cell_type": "code",
      "metadata": {
        "id": "6a3vd6v2a8pf"
      },
      "source": [
        "import requests\n",
        "from bs4 import BeautifulSoup\n",
        "import pandas as pd\n",
        "import re\n",
        "import numpy as np\n",
        "import matplotlib.pyplot as plt\n",
        "\n",
        "url_entrypoint_host = 'http://notelections.online/region/'\n",
        "url = 'region/st-petersburg?action=show&root=1&tvd=27820001217417&vrn=27820001217413&region=78&global=&sub_region=78&prver=0&pronetvd=null&vibid=27820001217417&type=222'"
      ],
      "execution_count": 11,
      "outputs": []
    },
    {
      "cell_type": "code",
      "metadata": {
        "id": "TVXCaHCzoMiE"
      },
      "source": [
        "def parse_header_row(row):\n",
        "  result = []\n",
        "  columns = row.findAll('td')\n",
        "  for column in columns:\n",
        "    result.append(column.find('a').text)\n",
        "  return result\n",
        "\n",
        "def parse_value(value):\n",
        "  return re.search(r'\\d+', value).group(0)"
      ],
      "execution_count": 12,
      "outputs": []
    },
    {
      "cell_type": "code",
      "metadata": {
        "id": "xNo9BgRUfXBF"
      },
      "source": [
        "def parse_endpoint(url, tik):\n",
        "  r = requests.get(url_entrypoint_host + url)\n",
        "  soup = BeautifulSoup(r.text)\n",
        "  table = soup.find_all('table')\n",
        "  rows = table[-1].findAll('tr')\n",
        "  header_rows = parse_header_row(rows[0])\n",
        "\n",
        "  other_table = []\n",
        "  for row in rows[1:]:\n",
        "    try:\n",
        "      current_row = []\n",
        "      columns = row.findAll('td')\n",
        "      for column in columns:\n",
        "        current_row.append(parse_value(column.text))\n",
        "      other_table.append(current_row)\n",
        "    except: \n",
        "      pass\n",
        "  \n",
        "  num = re.findall(r'\\d+', tik)\n",
        "  data = pd.DataFrame(other_table).transpose()\n",
        "  data['ТИК'] = [int(num[0]) if num else None for i in range(len(header_rows))]\n",
        "  data['УИК'] = [int(re.findall(r'\\d+', header_rows[i])[0]) for i in range(len(header_rows))]\n",
        "  return data"
      ],
      "execution_count": 13,
      "outputs": []
    },
    {
      "cell_type": "code",
      "metadata": {
        "id": "kfOVaszdbY9o"
      },
      "source": [
        "r = requests.get(url_entrypoint_host + url)\n",
        "soup = BeautifulSoup(r.text)\n",
        "\n",
        "links=soup.find_all('a', href=True)\n",
        "\n",
        "table = []\n",
        "\n",
        "for i in links:\n",
        "  if i['href'].startswith('/region/region/st-petersburg'):\n",
        "    table_slice = parse_endpoint(i['href'], i.text)\n",
        "    table.append(table_slice)\n",
        "\n",
        "table = pd.concat(table, ignore_index=True, sort=False)\n",
        "table = table.drop(index=2021)\n",
        "\n",
        "\n"
      ],
      "execution_count": 14,
      "outputs": []
    },
    {
      "cell_type": "markdown",
      "metadata": {
        "id": "6Km4Zya_aAkX"
      },
      "source": [
        "### Часть 2\n",
        "Используя скаченные данные и `Pandas` (или `PySpark`) посчитайте:\n",
        "- явку (%) по всем ТИК, результат отсортировать по убыванию\n",
        "- выберите произвольного кандидата и найдите тот избиратльный участок, на котором он получил наибольший результат  (%, учитывать участки на которых проголосовало больше 100 человек)\n",
        "- найдите ТИК, где разница между УИК с наибольшей явкой и наименьшей максимальна\n",
        "- посчитайте дисперсию по явке для каждого ТИК (учитывать УИК)\n",
        "- для каждого кандидата посчитайте таблицу: результат (%, округленный до целого) - количество УИК, на которых кандидат получил данный результат\n",
        "- визуализируйте отношение - явка на УИК $\\rightarrow$ результат кандидата. "
      ]
    },
    {
      "cell_type": "code",
      "metadata": {
        "id": "krUW8gOyaAkX",
        "colab": {
          "base_uri": "https://localhost:8080/",
          "height": 419
        },
        "outputId": "4da9d2bb-f218-4e0f-ad5e-7d76ddb7852d"
      },
      "source": [
        "table = table.rename(columns={0: 'total', 1: 'bulls', 2: 'some', 3:'name', 4: 'canceled', 5: 'for', 6: 'colums', 7: 'too',\\\n",
        "                              8: 'complex', 9: 'names', 10: 'in', 11: 'cand1', 12: 'cand2', 13: 'cand3'})\n",
        "table = table.apply(pd.to_numeric)\n",
        "table"
      ],
      "execution_count": 15,
      "outputs": [
        {
          "output_type": "execute_result",
          "data": {
            "text/html": [
              "<div>\n",
              "<style scoped>\n",
              "    .dataframe tbody tr th:only-of-type {\n",
              "        vertical-align: middle;\n",
              "    }\n",
              "\n",
              "    .dataframe tbody tr th {\n",
              "        vertical-align: top;\n",
              "    }\n",
              "\n",
              "    .dataframe thead th {\n",
              "        text-align: right;\n",
              "    }\n",
              "</style>\n",
              "<table border=\"1\" class=\"dataframe\">\n",
              "  <thead>\n",
              "    <tr style=\"text-align: right;\">\n",
              "      <th></th>\n",
              "      <th>total</th>\n",
              "      <th>bulls</th>\n",
              "      <th>some</th>\n",
              "      <th>name</th>\n",
              "      <th>canceled</th>\n",
              "      <th>for</th>\n",
              "      <th>colums</th>\n",
              "      <th>too</th>\n",
              "      <th>complex</th>\n",
              "      <th>names</th>\n",
              "      <th>in</th>\n",
              "      <th>cand1</th>\n",
              "      <th>cand2</th>\n",
              "      <th>cand3</th>\n",
              "      <th>ТИК</th>\n",
              "      <th>УИК</th>\n",
              "    </tr>\n",
              "  </thead>\n",
              "  <tbody>\n",
              "    <tr>\n",
              "      <th>0</th>\n",
              "      <td>1803</td>\n",
              "      <td>1200</td>\n",
              "      <td>587</td>\n",
              "      <td>11</td>\n",
              "      <td>602</td>\n",
              "      <td>11</td>\n",
              "      <td>587</td>\n",
              "      <td>23</td>\n",
              "      <td>575</td>\n",
              "      <td>0</td>\n",
              "      <td>0</td>\n",
              "      <td>110</td>\n",
              "      <td>345</td>\n",
              "      <td>120</td>\n",
              "      <td>1</td>\n",
              "      <td>1</td>\n",
              "    </tr>\n",
              "    <tr>\n",
              "      <th>1</th>\n",
              "      <td>1466</td>\n",
              "      <td>1100</td>\n",
              "      <td>433</td>\n",
              "      <td>14</td>\n",
              "      <td>653</td>\n",
              "      <td>14</td>\n",
              "      <td>430</td>\n",
              "      <td>19</td>\n",
              "      <td>425</td>\n",
              "      <td>0</td>\n",
              "      <td>0</td>\n",
              "      <td>53</td>\n",
              "      <td>326</td>\n",
              "      <td>46</td>\n",
              "      <td>1</td>\n",
              "      <td>2</td>\n",
              "    </tr>\n",
              "    <tr>\n",
              "      <th>2</th>\n",
              "      <td>2092</td>\n",
              "      <td>1600</td>\n",
              "      <td>576</td>\n",
              "      <td>22</td>\n",
              "      <td>1002</td>\n",
              "      <td>22</td>\n",
              "      <td>576</td>\n",
              "      <td>15</td>\n",
              "      <td>583</td>\n",
              "      <td>0</td>\n",
              "      <td>0</td>\n",
              "      <td>155</td>\n",
              "      <td>332</td>\n",
              "      <td>96</td>\n",
              "      <td>1</td>\n",
              "      <td>3</td>\n",
              "    </tr>\n",
              "    <tr>\n",
              "      <th>3</th>\n",
              "      <td>1056</td>\n",
              "      <td>1000</td>\n",
              "      <td>318</td>\n",
              "      <td>4</td>\n",
              "      <td>678</td>\n",
              "      <td>4</td>\n",
              "      <td>318</td>\n",
              "      <td>13</td>\n",
              "      <td>309</td>\n",
              "      <td>0</td>\n",
              "      <td>0</td>\n",
              "      <td>67</td>\n",
              "      <td>171</td>\n",
              "      <td>71</td>\n",
              "      <td>1</td>\n",
              "      <td>4</td>\n",
              "    </tr>\n",
              "    <tr>\n",
              "      <th>4</th>\n",
              "      <td>1827</td>\n",
              "      <td>1400</td>\n",
              "      <td>495</td>\n",
              "      <td>8</td>\n",
              "      <td>897</td>\n",
              "      <td>8</td>\n",
              "      <td>493</td>\n",
              "      <td>16</td>\n",
              "      <td>485</td>\n",
              "      <td>0</td>\n",
              "      <td>0</td>\n",
              "      <td>137</td>\n",
              "      <td>266</td>\n",
              "      <td>82</td>\n",
              "      <td>1</td>\n",
              "      <td>5</td>\n",
              "    </tr>\n",
              "    <tr>\n",
              "      <th>...</th>\n",
              "      <td>...</td>\n",
              "      <td>...</td>\n",
              "      <td>...</td>\n",
              "      <td>...</td>\n",
              "      <td>...</td>\n",
              "      <td>...</td>\n",
              "      <td>...</td>\n",
              "      <td>...</td>\n",
              "      <td>...</td>\n",
              "      <td>...</td>\n",
              "      <td>...</td>\n",
              "      <td>...</td>\n",
              "      <td>...</td>\n",
              "      <td>...</td>\n",
              "      <td>...</td>\n",
              "      <td>...</td>\n",
              "    </tr>\n",
              "    <tr>\n",
              "      <th>2016</th>\n",
              "      <td>284</td>\n",
              "      <td>300</td>\n",
              "      <td>166</td>\n",
              "      <td>53</td>\n",
              "      <td>81</td>\n",
              "      <td>53</td>\n",
              "      <td>166</td>\n",
              "      <td>0</td>\n",
              "      <td>219</td>\n",
              "      <td>0</td>\n",
              "      <td>0</td>\n",
              "      <td>21</td>\n",
              "      <td>184</td>\n",
              "      <td>14</td>\n",
              "      <td>30</td>\n",
              "      <td>2350</td>\n",
              "    </tr>\n",
              "    <tr>\n",
              "      <th>2017</th>\n",
              "      <td>132</td>\n",
              "      <td>150</td>\n",
              "      <td>86</td>\n",
              "      <td>27</td>\n",
              "      <td>37</td>\n",
              "      <td>27</td>\n",
              "      <td>86</td>\n",
              "      <td>2</td>\n",
              "      <td>111</td>\n",
              "      <td>0</td>\n",
              "      <td>0</td>\n",
              "      <td>7</td>\n",
              "      <td>91</td>\n",
              "      <td>13</td>\n",
              "      <td>30</td>\n",
              "      <td>2351</td>\n",
              "    </tr>\n",
              "    <tr>\n",
              "      <th>2018</th>\n",
              "      <td>320</td>\n",
              "      <td>350</td>\n",
              "      <td>217</td>\n",
              "      <td>23</td>\n",
              "      <td>110</td>\n",
              "      <td>23</td>\n",
              "      <td>217</td>\n",
              "      <td>4</td>\n",
              "      <td>236</td>\n",
              "      <td>0</td>\n",
              "      <td>0</td>\n",
              "      <td>20</td>\n",
              "      <td>193</td>\n",
              "      <td>23</td>\n",
              "      <td>30</td>\n",
              "      <td>2352</td>\n",
              "    </tr>\n",
              "    <tr>\n",
              "      <th>2019</th>\n",
              "      <td>485</td>\n",
              "      <td>500</td>\n",
              "      <td>335</td>\n",
              "      <td>12</td>\n",
              "      <td>153</td>\n",
              "      <td>12</td>\n",
              "      <td>335</td>\n",
              "      <td>2</td>\n",
              "      <td>345</td>\n",
              "      <td>0</td>\n",
              "      <td>0</td>\n",
              "      <td>23</td>\n",
              "      <td>290</td>\n",
              "      <td>32</td>\n",
              "      <td>30</td>\n",
              "      <td>2355</td>\n",
              "    </tr>\n",
              "    <tr>\n",
              "      <th>2020</th>\n",
              "      <td>620</td>\n",
              "      <td>650</td>\n",
              "      <td>210</td>\n",
              "      <td>215</td>\n",
              "      <td>225</td>\n",
              "      <td>215</td>\n",
              "      <td>210</td>\n",
              "      <td>3</td>\n",
              "      <td>422</td>\n",
              "      <td>0</td>\n",
              "      <td>0</td>\n",
              "      <td>39</td>\n",
              "      <td>345</td>\n",
              "      <td>38</td>\n",
              "      <td>30</td>\n",
              "      <td>2356</td>\n",
              "    </tr>\n",
              "  </tbody>\n",
              "</table>\n",
              "<p>2021 rows × 16 columns</p>\n",
              "</div>"
            ],
            "text/plain": [
              "      total  bulls  some  name  canceled  ...  cand1  cand2  cand3  ТИК   УИК\n",
              "0      1803   1200   587    11       602  ...    110    345    120    1     1\n",
              "1      1466   1100   433    14       653  ...     53    326     46    1     2\n",
              "2      2092   1600   576    22      1002  ...    155    332     96    1     3\n",
              "3      1056   1000   318     4       678  ...     67    171     71    1     4\n",
              "4      1827   1400   495     8       897  ...    137    266     82    1     5\n",
              "...     ...    ...   ...   ...       ...  ...    ...    ...    ...  ...   ...\n",
              "2016    284    300   166    53        81  ...     21    184     14   30  2350\n",
              "2017    132    150    86    27        37  ...      7     91     13   30  2351\n",
              "2018    320    350   217    23       110  ...     20    193     23   30  2352\n",
              "2019    485    500   335    12       153  ...     23    290     32   30  2355\n",
              "2020    620    650   210   215       225  ...     39    345     38   30  2356\n",
              "\n",
              "[2021 rows x 16 columns]"
            ]
          },
          "metadata": {
            "tags": []
          },
          "execution_count": 15
        }
      ]
    },
    {
      "cell_type": "markdown",
      "metadata": {
        "id": "bjkGLYStPAGR"
      },
      "source": [
        "<h1> Задаине 1 </h1>"
      ]
    },
    {
      "cell_type": "code",
      "metadata": {
        "id": "70kK2vTzBKFs",
        "colab": {
          "base_uri": "https://localhost:8080/"
        },
        "outputId": "89ebf2d4-9928-4d4e-aa76-29fddd440810"
      },
      "source": [
        "new = table.groupby(['ТИК'])['total', 'complex'].sum()\n",
        "res = new['complex'] / new['total'] * 100\n",
        "res.sort_values(ascending=False)"
      ],
      "execution_count": null,
      "outputs": [
        {
          "output_type": "stream",
          "text": [
            "/usr/local/lib/python3.6/dist-packages/ipykernel_launcher.py:1: FutureWarning: Indexing with multiple keys (implicitly converted to a tuple of keys) will be deprecated, use a list instead.\n",
            "  \"\"\"Entry point for launching an IPython kernel.\n"
          ],
          "name": "stderr"
        },
        {
          "output_type": "execute_result",
          "data": {
            "text/plain": [
              "ТИК\n",
              "18    49.598661\n",
              "15    38.887784\n",
              "13    38.486081\n",
              "19    37.260688\n",
              "8     34.695419\n",
              "20    32.697353\n",
              "9     32.533716\n",
              "22    31.489071\n",
              "30    30.952381\n",
              "2     30.737680\n",
              "1     30.145958\n",
              "10    29.746707\n",
              "4     29.464766\n",
              "29    29.378246\n",
              "21    28.418639\n",
              "7     28.200960\n",
              "25    28.113792\n",
              "17    27.428579\n",
              "16    27.125936\n",
              "14    26.581870\n",
              "28    26.580176\n",
              "23    26.487978\n",
              "11    26.015432\n",
              "5     25.982522\n",
              "24    25.907143\n",
              "3     25.646168\n",
              "12    25.609325\n",
              "26    25.457989\n",
              "6     24.346173\n",
              "27    23.988446\n",
              "dtype: float64"
            ]
          },
          "metadata": {
            "tags": []
          },
          "execution_count": 56
        }
      ]
    },
    {
      "cell_type": "markdown",
      "metadata": {
        "id": "i9ce8DHyPNSx"
      },
      "source": [
        "<h1> Задание 2 </h2>"
      ]
    },
    {
      "cell_type": "code",
      "metadata": {
        "id": "jBwi3i8KPLDq",
        "colab": {
          "base_uri": "https://localhost:8080/",
          "height": 81
        },
        "outputId": "7a1a3ad2-f94a-40e7-f90b-6f6d9c41290b"
      },
      "source": [
        "new = table[table['complex'] >= 100]\n",
        "new = new['cand2'] / new['complex']\n",
        "table.loc[[new.idxmax()]]"
      ],
      "execution_count": null,
      "outputs": [
        {
          "output_type": "execute_result",
          "data": {
            "text/html": [
              "<div>\n",
              "<style scoped>\n",
              "    .dataframe tbody tr th:only-of-type {\n",
              "        vertical-align: middle;\n",
              "    }\n",
              "\n",
              "    .dataframe tbody tr th {\n",
              "        vertical-align: top;\n",
              "    }\n",
              "\n",
              "    .dataframe thead th {\n",
              "        text-align: right;\n",
              "    }\n",
              "</style>\n",
              "<table border=\"1\" class=\"dataframe\">\n",
              "  <thead>\n",
              "    <tr style=\"text-align: right;\">\n",
              "      <th></th>\n",
              "      <th>total</th>\n",
              "      <th>bulls</th>\n",
              "      <th>some</th>\n",
              "      <th>name</th>\n",
              "      <th>canceled</th>\n",
              "      <th>for</th>\n",
              "      <th>colums</th>\n",
              "      <th>too</th>\n",
              "      <th>complex</th>\n",
              "      <th>names</th>\n",
              "      <th>in</th>\n",
              "      <th>cand1</th>\n",
              "      <th>cand2</th>\n",
              "      <th>cand3</th>\n",
              "      <th>ТИК</th>\n",
              "      <th>УИК</th>\n",
              "      <th>turn</th>\n",
              "      <th>cand2 _pers</th>\n",
              "    </tr>\n",
              "  </thead>\n",
              "  <tbody>\n",
              "    <tr>\n",
              "      <th>1453</th>\n",
              "      <td>668</td>\n",
              "      <td>1000</td>\n",
              "      <td>68</td>\n",
              "      <td>600</td>\n",
              "      <td>332</td>\n",
              "      <td>600</td>\n",
              "      <td>68</td>\n",
              "      <td>3</td>\n",
              "      <td>665</td>\n",
              "      <td>0</td>\n",
              "      <td>0</td>\n",
              "      <td>6</td>\n",
              "      <td>652</td>\n",
              "      <td>7</td>\n",
              "      <td>22</td>\n",
              "      <td>403</td>\n",
              "      <td>10.179641</td>\n",
              "      <td>959.0</td>\n",
              "    </tr>\n",
              "  </tbody>\n",
              "</table>\n",
              "</div>"
            ],
            "text/plain": [
              "      total  bulls  some  name  ...  ТИК  УИК       turn  cand2 _pers\n",
              "1453    668   1000    68   600  ...   22  403  10.179641        959.0\n",
              "\n",
              "[1 rows x 18 columns]"
            ]
          },
          "metadata": {
            "tags": []
          },
          "execution_count": 57
        }
      ]
    },
    {
      "cell_type": "markdown",
      "metadata": {
        "id": "lQAzQjF5gzmt"
      },
      "source": [
        "<h1> Задание 3 </h2>"
      ]
    },
    {
      "cell_type": "code",
      "metadata": {
        "id": "X4zSBgGkaIkK",
        "colab": {
          "base_uri": "https://localhost:8080/"
        },
        "outputId": "1549e1eb-0954-4c0f-dc9e-166285f798cf"
      },
      "source": [
        "table['turn'] = table['complex'] / table['total'] * 100\n",
        "max = table.groupby(['ТИК'])['turn'].max()\n",
        "min = table.groupby(['ТИК'])['turn'].min()\n",
        "diff = max - min\n",
        "diff.loc[[diff.idxmax()]]"
      ],
      "execution_count": null,
      "outputs": [
        {
          "output_type": "execute_result",
          "data": {
            "text/plain": [
              "ТИК\n",
              "11    80.751999\n",
              "Name: turn, dtype: float64"
            ]
          },
          "metadata": {
            "tags": []
          },
          "execution_count": 58
        }
      ]
    },
    {
      "cell_type": "markdown",
      "metadata": {
        "id": "yJRaGP_Vpak_"
      },
      "source": [
        "<h1> Задание 4 </h1>"
      ]
    },
    {
      "cell_type": "code",
      "metadata": {
        "colab": {
          "base_uri": "https://localhost:8080/"
        },
        "id": "wZMnazpxpBva",
        "outputId": "4331f587-54c9-47d4-a669-359d618bb085"
      },
      "source": [
        "var = table.groupby(['ТИК'])['turn'].var()\n",
        "var"
      ],
      "execution_count": null,
      "outputs": [
        {
          "output_type": "execute_result",
          "data": {
            "text/plain": [
              "ТИК\n",
              "1     188.133458\n",
              "2     456.180020\n",
              "3      69.108981\n",
              "4     221.862618\n",
              "5     131.018165\n",
              "6      18.510552\n",
              "7      63.873858\n",
              "8     222.281371\n",
              "9     112.210987\n",
              "10     74.900375\n",
              "11    234.094658\n",
              "12     31.018136\n",
              "13    370.817654\n",
              "14     29.995824\n",
              "15    383.830541\n",
              "16    102.581810\n",
              "17    313.288501\n",
              "18    238.953822\n",
              "19    207.825797\n",
              "20    164.346682\n",
              "21    301.413929\n",
              "22    416.765838\n",
              "23    577.819994\n",
              "24    263.010286\n",
              "25      8.043611\n",
              "26    192.770708\n",
              "27    187.488823\n",
              "28    369.688448\n",
              "29    235.520634\n",
              "30    500.703138\n",
              "Name: turn, dtype: float64"
            ]
          },
          "metadata": {
            "tags": []
          },
          "execution_count": 59
        }
      ]
    },
    {
      "cell_type": "markdown",
      "metadata": {
        "id": "Bzai0Lr2q3mK"
      },
      "source": [
        "<h1> Задание 5 </h1>"
      ]
    },
    {
      "cell_type": "code",
      "metadata": {
        "colab": {
          "base_uri": "https://localhost:8080/"
        },
        "id": "DrqVo7wXqoHy",
        "outputId": "4fcbd0d0-e54e-4b76-f86f-c92184589992"
      },
      "source": [
        "table['cand2 _pers'] = (table['cand2'] / table['complex'] * 100).round(0)\n",
        "res = table.groupby(\"cand2 _pers\").count()['УИК']\n",
        "res"
      ],
      "execution_count": null,
      "outputs": [
        {
          "output_type": "execute_result",
          "data": {
            "text/plain": [
              "cand2 _pers\n",
              "31.0    1\n",
              "32.0    1\n",
              "34.0    2\n",
              "39.0    3\n",
              "40.0    1\n",
              "       ..\n",
              "93.0    1\n",
              "94.0    2\n",
              "95.0    5\n",
              "96.0    1\n",
              "98.0    4\n",
              "Name: УИК, Length: 62, dtype: int64"
            ]
          },
          "metadata": {
            "tags": []
          },
          "execution_count": 64
        }
      ]
    },
    {
      "cell_type": "markdown",
      "metadata": {
        "id": "svL6GBWQvwdx"
      },
      "source": [
        "<h1> Задание 6 </h1>"
      ]
    },
    {
      "cell_type": "code",
      "metadata": {
        "colab": {
          "base_uri": "https://localhost:8080/",
          "height": 296
        },
        "id": "8U7CS0ZburPY",
        "outputId": "267fe49f-d268-4975-a9b1-3e76f4ce9034"
      },
      "source": [
        "plt.scatter(table['turn'], table['cand2 _pers'])\n",
        "plt.xlabel('Явка на УИК')\n",
        "plt.ylabel('Процент голосов за Беглова')"
      ],
      "execution_count": null,
      "outputs": [
        {
          "output_type": "execute_result",
          "data": {
            "text/plain": [
              "Text(0, 0.5, 'Процент голосов за Беглова')"
            ]
          },
          "metadata": {
            "tags": []
          },
          "execution_count": 69
        },
        {
          "output_type": "display_data",
          "data": {
            "image/png": "[encoded data removed]",
            "text/plain": [
              "<Figure size 432x288 with 1 Axes>"
            ]
          },
          "metadata": {
            "tags": [],
            "needs_background": "light"
          }
        }
      ]
    },
    {
      "cell_type": "code",
      "metadata": {
        "id": "52aSQIZMwZ1u"
      },
      "source": [
        ""
      ],
      "execution_count": null,
      "outputs": []
    }
  ]
}