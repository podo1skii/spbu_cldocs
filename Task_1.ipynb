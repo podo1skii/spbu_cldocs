{
  "nbformat": 4,
  "nbformat_minor": 0,
  "metadata": {
    "kernelspec": {
      "display_name": "Python 3",
      "language": "python",
      "name": "python3"
    },
    "language_info": {
      "codemirror_mode": {
        "name": "ipython",
        "version": 3
      },
      "file_extension": ".py",
      "mimetype": "text/x-python",
      "name": "python",
      "nbconvert_exporter": "python",
      "pygments_lexer": "ipython3",
      "version": "3.6.9"
    },
    "colab": {
      "name": "Task_1.ipynb",
      "provenance": [],
      "collapsed_sections": [],
      "include_colab_link": true
    }
  },
  "cells": [
    {
      "cell_type": "markdown",
      "metadata": {
        "id": "view-in-github",
        "colab_type": "text"
      },
      "source": [
        "<a href=\"https://colab.research.google.com/github/podo1skii/spbu_cldocs/blob/master/Task_1.ipynb\" target=\"_parent\"><img src=\"https://colab.research.google.com/assets/colab-badge.svg\" alt=\"Open In Colab\"/></a>"
      ]
    },
    {
      "cell_type": "markdown",
      "metadata": {
        "id": "-59ajkaprX-o"
      },
      "source": [
        "# Задание 1\n",
        "\n",
        "[Свертка списка](https://ru.wikipedia.org/wiki/%D0%A1%D0%B2%D1%91%D1%80%D1%82%D0%BA%D0%B0_%D1%81%D0%BF%D0%B8%D1%81%D0%BA%D0%B0) -  это обобщенная операция над списком, c помощью которой можно преобразовать список в единое значение. Например, рассмотрим реализации свертки слева и свертки справа (левоассоциативную свертку и правоассоциативную свертку):"
      ]
    },
    {
      "cell_type": "code",
      "metadata": {
        "jupyter": {
          "outputs_hidden": true
        },
        "id": "V1zDY6kprX-r"
      },
      "source": [
        "def foldl(f, x0, lst):\n",
        "    if not lst:\n",
        "        return x0\n",
        "    return foldl(f, f(x0, lst[0]), lst[1:])\n",
        "\n",
        "def foldr(f, x0, lst):\n",
        "    if not lst:\n",
        "        return x0\n",
        "    return f(lst[0], foldr(f, x0, lst[1:]))"
      ],
      "execution_count": null,
      "outputs": []
    },
    {
      "cell_type": "code",
      "metadata": {
        "id": "UD8ceQ6krX-x",
        "outputId": "105d038e-b136-41ea-f0d1-f78b51b4d7b0"
      },
      "source": [
        "#сумма\n",
        "foldl(lambda x, y: x + y, 0, [1, 2, 3])"
      ],
      "execution_count": null,
      "outputs": [
        {
          "output_type": "execute_result",
          "data": {
            "text/plain": [
              "6"
            ]
          },
          "metadata": {
            "tags": []
          },
          "execution_count": 3
        }
      ]
    },
    {
      "cell_type": "code",
      "metadata": {
        "id": "lKc5gxS6rX-3",
        "outputId": "4f33e2c0-ab8b-48da-e648-f2677bea125e"
      },
      "source": [
        "#конкатенация\n",
        "foldl(lambda x, y: '{}{}'.format(x, y), '', [1, 2, 3])"
      ],
      "execution_count": null,
      "outputs": [
        {
          "output_type": "execute_result",
          "data": {
            "text/plain": [
              "'123'"
            ]
          },
          "metadata": {
            "tags": []
          },
          "execution_count": 4
        }
      ]
    },
    {
      "cell_type": "code",
      "metadata": {
        "id": "2JlHSiblrX-7",
        "outputId": "461ca3be-23d3-4e25-f3c3-1ae3686ff34b"
      },
      "source": [
        "f = lambda x, y: x / y\n",
        "foldl(f, 1, [1, 2, 3]), \\\n",
        "foldr(f, 1, [1, 2, 3])"
      ],
      "execution_count": null,
      "outputs": [
        {
          "output_type": "execute_result",
          "data": {
            "text/plain": [
              "(0.16666666666666666, 1.5)"
            ]
          },
          "metadata": {
            "tags": []
          },
          "execution_count": 5
        }
      ]
    },
    {
      "cell_type": "markdown",
      "metadata": {
        "id": "TA0GZVARrX_A"
      },
      "source": [
        "Задача: реализовать foldl через foldr и наоборот. Вместо многоточий нужно вставить выражения, которые бы привели к нужному результату. Модифицировать сам список нельзя. "
      ]
    },
    {
      "cell_type": "code",
      "metadata": {
        "jupyter": {
          "outputs_hidden": true
        },
        "id": "71dEugezrX_B"
      },
      "source": [
        "def foldl2(f, x0, lst):\n",
        "    return foldr(..., ..., lst)(...)"
      ],
      "execution_count": null,
      "outputs": []
    },
    {
      "cell_type": "code",
      "metadata": {
        "jupyter": {
          "outputs_hidden": true
        },
        "id": "Gz4Z_AfMrX_E"
      },
      "source": [
        "def foldr2(f, x0, lst):\n",
        "    return foldl(..., ..., lst)(...)"
      ],
      "execution_count": null,
      "outputs": []
    },
    {
      "cell_type": "markdown",
      "metadata": {
        "id": "H7-GeRpBrX_H"
      },
      "source": [
        "# Задание 2\n",
        "\n",
        "нужно написать функцию, которая принимает две строки и проверяет, входит ли хотя бы одна перестановка второй строки в первую. Например:\n",
        "\n",
        "> a = 'abcrotm'\n",
        "> \n",
        "> b = 'tro'\n",
        "\n",
        "функция def check_inv(a, b) вернет True, так как 'rot' содержится в 'abcrotm'. Нужно подумать как можно более оптимальный алгоритм и оценить его сложность. "
      ]
    },
    {
      "cell_type": "code",
      "metadata": {
        "jupyter": {
          "outputs_hidden": true
        },
        "id": "s6_C2I-WrX_H",
        "outputId": "bf82c12a-bddd-4198-bdd3-69949886bcc2",
        "colab": {
          "base_uri": "https://localhost:8080/"
        }
      },
      "source": [
        "def check_inv(a, b):\n",
        "    for i in a:\n",
        "      print(i)\n",
        "      if b.find(i) != -1:\n",
        "        print('yes')\n",
        "\n",
        "check_inv('adsa','sdf')"
      ],
      "execution_count": 4,
      "outputs": [
        {
          "output_type": "stream",
          "text": [
            "a\n",
            "d\n",
            "yes\n",
            "s\n",
            "yes\n",
            "a\n"
          ],
          "name": "stdout"
        }
      ]
    },
    {
      "cell_type": "markdown",
      "metadata": {
        "id": "Cb73m1zarX_K"
      },
      "source": [
        "# Задание 3\n",
        "\n",
        "Реализовать бинарное дерево (класс Tree), в нём методы __repr__, __str__, __iter__ (итерация только по листьям)."
      ]
    },
    {
      "cell_type": "code",
      "metadata": {
        "id": "DMHIMCIlrX_K",
        "outputId": "f7ebeff0-f5a3-4abb-9581-de7fee357538",
        "colab": {
          "base_uri": "https://localhost:8080/"
        }
      },
      "source": [
        "class Tree:\n",
        "    def __init__(self, value=None, left=None, right=None):\n",
        "        self.left = left\n",
        "        self.right = right\n",
        "        self.value = value\n",
        "        \n",
        "    def __iter__(self):\n",
        "      result = []\n",
        "      if type(self.left) == Tree:\n",
        "        result.extend(self.left.__iter__())\n",
        "\n",
        "      if type(self.right) == Tree:\n",
        "        result.extend(self.right.__iter__())\n",
        "\n",
        "      if type(self.left) != Tree and type(self.right) != Tree:\n",
        "        result.append(self.value)\n",
        "\n",
        "      return iter(result)\n",
        "    \n",
        "    def __str__(self):\n",
        "        return str(self.value)\n",
        "    \n",
        "    def __repr__(self):\n",
        "        return \"Tree ${self.value}\"\n",
        "    \n",
        "tree = Tree(0, Tree(1, Tree(3), Tree(4)),                             \n",
        "               Tree(2))\n",
        "\n",
        "list(tree) == [3, 4, 2]"
      ],
      "execution_count": 24,
      "outputs": [
        {
          "output_type": "execute_result",
          "data": {
            "text/plain": [
              "True"
            ]
          },
          "metadata": {
            "tags": []
          },
          "execution_count": 24
        }
      ]
    },
    {
      "cell_type": "markdown",
      "metadata": {
        "id": "OrKu6m93rYAc"
      },
      "source": [
        "# Задание 4\n",
        "\n",
        "Реализовать простейший калькулятор математических выражений:\n",
        "- только целые числа\n",
        "- **+**, **\\-**, **\\***, **\\**\n",
        "- скобки\n",
        "\n",
        "**Можно использовать регулярные выражения**"
      ]
    },
    {
      "cell_type": "code",
      "metadata": {
        "id": "yeu_Jw0MrYAd"
      },
      "source": [
        "def calc(expr):\n",
        "  print('Expression: ' + expr)\n",
        "  open_bracket = expr.find('(')\n",
        "  if open_bracket != -1:\n",
        "    close_bracket = expr.rfind(')')\n",
        "    closed_value = calc(expr[open_bracket + 1:close_bracket])\n",
        "    expr = expr.replace(expr[open_bracket:close_bracket+1], str(closed_value))\n",
        "    return calc(expr)\n",
        "  elif expr.find('+') != -1:\n",
        "    plus_index = expr.find('+')\n",
        "    left_item = calc(expr[0:plus_index])\n",
        "    right_item = calc(expr[expr:plus_index])\n",
        "    result = left_item + right_item\n",
        "    print(str(left_item) + '+' + str(right_item) + ' = ' + str(result))\n",
        "    return result\n",
        "  elif expr.rfind('-') != -1:\n",
        "    minus_index = expr.rfind('-')\n",
        "    left_item = calc(expr[0:minus_index])\n",
        "    right_item = calc(expr[minus_index+1:len(expr)])\n",
        "    result = left_item - right_item\n",
        "    print(str(left_item) + '-' + str(right_item) + ' = ' + str(result))\n",
        "    return result\n",
        "  elif expr.find('*') != -1:\n",
        "    mult_index = expr.find('*')\n",
        "    left_item = calc(expr[0:mult_index])\n",
        "    right_item = calc(expr[mult_index+1:len(expr)])\n",
        "    result = left_item * right_item\n",
        "    print(str(left_item) + '*' + str(right_item) + ' = ' + str(result))\n",
        "    return result\n",
        "  elif expr.rfind('\\\\') != -1:\n",
        "    div_index = expr.rfind('\\\\')\n",
        "    left_item = calc(expr[0:div_index])\n",
        "    right_item = calc(expr[div_index+1:len(expr)])\n",
        "    result = left_item / right_item\n",
        "    print(str(left_item) + '/' + str(right_item) + ' = ' + str(result))\n",
        "    return result\n",
        "  else:\n",
        "    return int(expr)\n"
      ],
      "execution_count": 97,
      "outputs": []
    },
    {
      "cell_type": "code",
      "metadata": {
        "jupyter": {
          "outputs_hidden": true
        },
        "id": "vDJOi0KqrYAn",
        "outputId": "55f6b233-4f55-472a-a870-bf3f443ffbfd",
        "colab": {
          "base_uri": "https://localhost:8080/"
        }
      },
      "source": [
        "assert(calc('2 * (15 - 3 * 4) - 2') == 4)\n",
        "\n",
        "assert(calc('2 * ((15 - 3) * 4) - 2') == 94)\n",
        "\n",
        "assert(calc('2 - 2') == 0)\n",
        "\n",
        "assert(calc('2 * 15 - 3 * 4 - 2') == 16)\n",
        "\n",
        "assert(calc('9 \\ 3') == 3)\n",
        "\n",
        "assert(calc('9 \\ 3 * 3') == 9)\n",
        "\n",
        "assert(calc('9 \\ (3 * 3)') == 1)"
      ],
      "execution_count": 101,
      "outputs": [
        {
          "output_type": "stream",
          "text": [
            "Expression: 2 * (15 - 3 * 4) - 2\n",
            "Expression: 15 - 3 * 4\n",
            "Expression: 15 \n",
            "Expression:  3 * 4\n",
            "Expression:  3 \n",
            "Expression:  4\n",
            "3*4 = 12\n",
            "15-12 = 3\n",
            "Expression: 2 * 3 - 2\n",
            "Expression: 2 * 3 \n",
            "Expression: 2 \n",
            "Expression:  3 \n",
            "2*3 = 6\n",
            "Expression:  2\n",
            "6-2 = 4\n",
            "Expression: 2 * ((15 - 3) * 4) - 2\n",
            "Expression: (15 - 3) * 4\n",
            "Expression: 15 - 3\n",
            "Expression: 15 \n",
            "Expression:  3\n",
            "15-3 = 12\n",
            "Expression: 12 * 4\n",
            "Expression: 12 \n",
            "Expression:  4\n",
            "12*4 = 48\n",
            "Expression: 2 * 48 - 2\n",
            "Expression: 2 * 48 \n",
            "Expression: 2 \n",
            "Expression:  48 \n",
            "2*48 = 96\n",
            "Expression:  2\n",
            "96-2 = 94\n",
            "Expression: 2 - 2\n",
            "Expression: 2 \n",
            "Expression:  2\n",
            "2-2 = 0\n",
            "Expression: 2 * 15 - 3 * 4 - 2\n",
            "Expression: 2 * 15 - 3 * 4 \n",
            "Expression: 2 * 15 \n",
            "Expression: 2 \n",
            "Expression:  15 \n",
            "2*15 = 30\n",
            "Expression:  3 * 4 \n",
            "Expression:  3 \n",
            "Expression:  4 \n",
            "3*4 = 12\n",
            "30-12 = 18\n",
            "Expression:  2\n",
            "18-2 = 16\n",
            "Expression: 9 \\ 3\n",
            "Expression: 9 \n",
            "Expression:  3\n",
            "9/3 = 3.0\n",
            "Expression: 9 \\ 3 * 3\n",
            "Expression: 9 \\ 3 \n",
            "Expression: 9 \n",
            "Expression:  3 \n",
            "9/3 = 3.0\n",
            "Expression:  3\n",
            "3.0*3 = 9.0\n",
            "Expression: 9 \\ (3 * 3)\n",
            "Expression: 3 * 3\n",
            "Expression: 3 \n",
            "Expression:  3\n",
            "3*3 = 9\n",
            "Expression: 9 \\ 9\n",
            "Expression: 9 \n",
            "Expression:  9\n",
            "9/9 = 1.0\n"
          ],
          "name": "stdout"
        }
      ]
    }
  ]
}